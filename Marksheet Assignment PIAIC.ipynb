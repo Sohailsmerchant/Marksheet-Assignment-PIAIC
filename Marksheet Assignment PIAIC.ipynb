{
 "cells": [
  {
   "cell_type": "code",
   "execution_count": 2,
   "metadata": {},
   "outputs": [
    {
     "name": "stdout",
     "output_type": "stream",
     "text": [
      "('Urdu', 'English', 'Maths', 'Science', 'PST')\n",
      "(85, 79, 82, 65, 92)\n"
     ]
    }
   ],
   "source": [
    "subject = (\"Urdu\", \"English\",\"Maths\", \"Science\", \"PST\")\n",
    "marks = (85, 79, 82, 65, 92)\n",
    "\n",
    "print(subject)\n",
    "print(marks)"
   ]
  },
  {
   "cell_type": "code",
   "execution_count": 3,
   "metadata": {},
   "outputs": [
    {
     "name": "stdout",
     "output_type": "stream",
     "text": [
      "Urdu   85\n",
      "English   79\n",
      "Maths   82\n",
      "Science   65\n",
      "PST   92\n"
     ]
    }
   ],
   "source": [
    "print(subject[0], \" \" , marks[0])\n",
    "print(subject[1], \" \" , marks[1])\n",
    "print(subject[2], \" \" , marks[2])\n",
    "print(subject[3], \" \" , marks[3])\n",
    "print(subject[4], \" \" , marks[4])"
   ]
  },
  {
   "cell_type": "code",
   "execution_count": 4,
   "metadata": {},
   "outputs": [
    {
     "name": "stdout",
     "output_type": "stream",
     "text": [
      "Total Marks : 500 , Obtained Marks : 403 and Percentage : 80.60000000000001 %.\n"
     ]
    }
   ],
   "source": [
    "total_marks = 500\n",
    "obt_marks = marks[0] + marks[1] + marks[2] + marks[3] + marks[4]\n",
    "percentage = (obt_marks/total_marks)*100\n",
    "\n",
    "print(\"Total Marks :\" ,total_marks, \", Obtained Marks :\" ,obt_marks, \"and Percentage :\" ,percentage, \"%.\")"
   ]
  },
  {
   "cell_type": "code",
   "execution_count": 12,
   "metadata": {},
   "outputs": [
    {
     "name": "stdout",
     "output_type": "stream",
     "text": [
      "A+\n"
     ]
    }
   ],
   "source": [
    "if(percentage >= 80 and percentage <= 100):\n",
    "    overall_grade = \"A+\"\n",
    "elif(percentage >= 70 and percentage <= 79):\n",
    "    overall_grade = \"B\"\n",
    "elif(percentage >= 60 and percentage <= 69):\n",
    "    overall_grade = \"C\"\n",
    "elif(percentage >= 50 and percentage <= 59):\n",
    "    overall_grade = \"D\"\n",
    "elif(percentage >= 40 and percentage <= 49):\n",
    "    overall_grade = \"E\"\n",
    "else:\n",
    "    overall_grade = \"F\"\n",
    "    \n",
    "print(overall_grade)\n"
   ]
  },
  {
   "cell_type": "code",
   "execution_count": 23,
   "metadata": {},
   "outputs": [],
   "source": [
    "with open(\"SMAssignment.txt\", \"w\") as f:\n",
    "    f.write(\"Total Marks :\" + str(total_marks))\n",
    "    f.write(\"\\n-------------------------------\\n\")\n",
    "    f.write(\"obtained Marks :\" +str(obt_marks))\n",
    "    f.write(\"\\n-------------------------------\\n\")\n",
    "    f.write(\"prcentage :\" +str(percentage)+\"%.\")\n",
    "    f.write(\"\\n-------------------------------\\n\")\n",
    "    f.write(\"Overall Grade: \"+overall_grade+\"\\n\")\n"
   ]
  },
  {
   "cell_type": "code",
   "execution_count": null,
   "metadata": {},
   "outputs": [],
   "source": []
  }
 ],
 "metadata": {
  "kernelspec": {
   "display_name": "Python 3",
   "language": "python",
   "name": "python3"
  },
  "language_info": {
   "codemirror_mode": {
    "name": "ipython",
    "version": 3
   },
   "file_extension": ".py",
   "mimetype": "text/x-python",
   "name": "python",
   "nbconvert_exporter": "python",
   "pygments_lexer": "ipython3",
   "version": "3.7.0"
  }
 },
 "nbformat": 4,
 "nbformat_minor": 2
}
